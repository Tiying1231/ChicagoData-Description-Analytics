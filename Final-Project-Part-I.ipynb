{
 "cells": [
  {
   "cell_type": "markdown",
   "metadata": {
    "toc": "true"
   },
   "source": [
    "# Table of Contents\n",
    " <p>"
   ]
  },
  {
   "cell_type": "markdown",
   "metadata": {},
   "source": [
    "# Project Description \n",
    "\n",
    "In this project, we will explore Chicago Crime Dataset and implement a relational database for storing the data. The key tasks for this project are as follows: \n",
    "\n",
    "1. Indentify the features (attributes) in Chicago Crime dataset and design an entity-relationship model\n",
    "2. Refine the model and convert each relation to 3NF (if required)\n",
    "3. Using DDL implement the relations in a postgres server\n",
    "4. Load the given data to the relations\n",
    "5. Execute some interesting queries on the relations\n",
    "\n",
    "\n",
    "## Dataset\n",
    "\n",
    "* Dataset URL: **/dsa/data/DSA-7030/Chicago-Crime-Sample-2012.csv**\n",
    "* Dataset Description: [pdf](./ChicagoData-Description.pdf)"
   ]
  },
  {
   "cell_type": "markdown",
   "metadata": {},
   "source": [
    "## Dataset exploration"
   ]
  },
  {
   "cell_type": "code",
   "execution_count": 6,
   "metadata": {},
   "outputs": [],
   "source": [
    "import pandas as pd\n",
    "datapath = \"/dsa/data/DSA-7030/Chicago-Crime-Sample-2012-updated.csv\"\n",
    "df = pd.read_csv(datapath, index_col=0)"
   ]
  },
  {
   "cell_type": "code",
   "execution_count": 7,
   "metadata": {},
   "outputs": [
    {
     "name": "stdout",
     "output_type": "stream",
     "text": [
      "<class 'pandas.core.frame.DataFrame'>\n",
      "Int64Index: 336149 entries, 12236659 to 9998136\n",
      "Data columns (total 21 columns):\n",
      "Case Number             336148 non-null object\n",
      "Date                    336149 non-null object\n",
      "Block                   336149 non-null object\n",
      "IUCR                    336149 non-null object\n",
      "Primary Type            336149 non-null object\n",
      "Description             336149 non-null object\n",
      "Location Description    335702 non-null object\n",
      "Arrest                  336149 non-null bool\n",
      "Domestic                336149 non-null bool\n",
      "Beat                    336149 non-null int64\n",
      "District                336149 non-null int64\n",
      "Ward                    336142 non-null float64\n",
      "Community Area          336123 non-null float64\n",
      "FBI Code                336149 non-null object\n",
      "X Coordinate            335446 non-null float64\n",
      "Y Coordinate            335446 non-null float64\n",
      "Year                    336149 non-null int64\n",
      "Updated On              336149 non-null object\n",
      "Latitude                335446 non-null float64\n",
      "Longitude               335446 non-null float64\n",
      "Location                335446 non-null object\n",
      "dtypes: bool(2), float64(6), int64(3), object(10)\n",
      "memory usage: 51.9+ MB\n"
     ]
    }
   ],
   "source": [
    "# check columns\n",
    "df.info()"
   ]
  },
  {
   "cell_type": "markdown",
   "metadata": {},
   "source": [
    "## 1.1 Design an Entity Relationship Model for the Chicago Crime Dataset\n",
    "\n",
    "* List all the entities with associated attributes\n",
    "* Indentify primary and foreign keys"
   ]
  },
  {
   "cell_type": "markdown",
   "metadata": {},
   "source": [
    "# Diagram located exercise folder named q1.pdf\n",
    "\n",
    "https://europa.dsa.missouri.edu/user/tgq35/tree/f20dsa7030_tgq35/modules/module7/exercises/q1.pdf"
   ]
  },
  {
   "cell_type": "markdown",
   "metadata": {},
   "source": [
    "## 1.2 If required, refine your initial set of relations and convert each of the relations to 3NF\n",
    "\n",
    "While converting a relation to 3NF, please write down the process in the following cell. "
   ]
  },
  {
   "cell_type": "markdown",
   "metadata": {},
   "source": [
    "## I will split the crime_info, location_info to satisfy the 3NF. \n",
    "### I split arrest and domestic two attributes into crime_status table, with case_number as the PK as well.\n",
    "### For location_info table. The table is too long. I split out the x coordination, y coordination, latitute, longtitute as location_detail table, with the location as the PK. And spilit the beat and district attributes as police_location table. In this case, the beat and locate in the location_info table will change to FK. "
   ]
  },
  {
   "cell_type": "markdown",
   "metadata": {},
   "source": [
    "## 1.3 Final ERD\n",
    "\n",
    "* Draw an entitiy relationship diagram once you are done with 1.1 and 1.2 \n",
    "* Use crow's foot notation to specify the cardinality \n",
    "* Show the primary and foreign keys in the diagram"
   ]
  },
  {
   "cell_type": "markdown",
   "metadata": {},
   "source": [
    "Please upload your ERD to the Module 8 exercises folder. Link the file [here](./myerd.png). Once you are done, change this cell type to Markdown and execute. "
   ]
  },
  {
   "cell_type": "markdown",
   "metadata": {},
   "source": [
    "## <center> Part-I ends here</center>"
   ]
  },
  {
   "cell_type": "markdown",
   "metadata": {},
   "source": [
    "To access Part II, use this link: [Final Project Part II](./Final-Project-Part-II.ipynb)"
   ]
  }
 ],
 "metadata": {
  "kernelspec": {
   "display_name": "Python 3",
   "language": "python",
   "name": "python3"
  },
  "language_info": {
   "codemirror_mode": {
    "name": "ipython",
    "version": 3
   },
   "file_extension": ".py",
   "mimetype": "text/x-python",
   "name": "python",
   "nbconvert_exporter": "python",
   "pygments_lexer": "ipython3",
   "version": "3.7.3"
  },
  "latex_envs": {
   "LaTeX_envs_menu_present": true,
   "bibliofile": "biblio.bib",
   "cite_by": "apalike",
   "current_citInitial": 1,
   "eqLabelWithNumbers": true,
   "eqNumInitial": 1,
   "labels_anchors": false,
   "latex_user_defs": false,
   "report_style_numbering": false,
   "user_envs_cfg": false
  },
  "toc": {
   "colors": {
    "hover_highlight": "#DAA520",
    "running_highlight": "#FF0000",
    "selected_highlight": "#FFD700"
   },
   "moveMenuLeft": true,
   "nav_menu": {
    "height": "11.9886px",
    "width": "251.989px"
   },
   "navigate_menu": true,
   "number_sections": true,
   "sideBar": true,
   "threshold": 4,
   "toc_cell": true,
   "toc_section_display": "block",
   "toc_window_display": false
  }
 },
 "nbformat": 4,
 "nbformat_minor": 4
}
