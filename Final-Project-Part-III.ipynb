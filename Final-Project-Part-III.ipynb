{
 "cells": [
  {
   "cell_type": "markdown",
   "metadata": {},
   "source": [
    "# Final Project Part - III\n",
    "\n",
    "In this part, we will be executing some queries on the database that we have implemented in Part-II. "
   ]
  },
  {
   "cell_type": "markdown",
   "metadata": {},
   "source": [
    "## 5. For Chicago Crime data, come up with a query for each of the following cases.\n",
    "* Add additional cells if required"
   ]
  },
  {
   "cell_type": "markdown",
   "metadata": {},
   "source": [
    "### 5.1 How many different types of location_decription that have “residence” or “residential”?"
   ]
  },
  {
   "cell_type": "code",
   "execution_count": null,
   "metadata": {},
   "outputs": [],
   "source": [
    "dsa_student=> Select count(*) FROM crime_location\n",
    "WHERE location_description like '%RESIDENCE%' or location_description LIKE '%RESIDENTIAL%';\n",
    " count\n",
    "-------\n",
    " 61150\n",
    "(1 row)"
   ]
  },
  {
   "cell_type": "markdown",
   "metadata": {},
   "source": [
    "### 5.2 Find the primary type happened on 13th of February."
   ]
  },
  {
   "cell_type": "code",
   "execution_count": null,
   "metadata": {},
   "outputs": [],
   "source": [
    "Select DISTINCT primary_type\n",
    "FROM crime_type join crime_record\n",
    "ON crime_type.iucr = crime_record.iucr and crime_type.fbi_code = crime_record.fbi_code\n",
    "WHERE date LIKE '2/13%';"
   ]
  },
  {
   "cell_type": "markdown",
   "metadata": {},
   "source": [
    "### 5.3 Which month has the largest number of thefts?"
   ]
  },
  {
   "cell_type": "code",
   "execution_count": null,
   "metadata": {},
   "outputs": [],
   "source": [
    "SELECT Max(month_count) \n",
    "FROM (SELECT DISTINCT SUBSTR(date, 1, 2) AS month, COUNT(*) AS month_count\n",
    "FROM    crime_record\n",
    "GROUP BY SUBSTR(date, 1, 2));"
   ]
  },
  {
   "cell_type": "markdown",
   "metadata": {},
   "source": [
    "### 5.4 What is the primary type of crime that happened the most during Christmas day?"
   ]
  },
  {
   "cell_type": "code",
   "execution_count": null,
   "metadata": {},
   "outputs": [],
   "source": [
    "SELECT Max(type_count)\n",
    "From (Select DISTINCT primary_type, COUNT(*) AS type_count\n",
    "From crime_type join crime_record\n",
    "ON crime_type.iucr = crime_record.iucr AND crime_type.fbi_code = crime_record.fbi_code\n",
    "WHERE date LIKE '12/25%');"
   ]
  },
  {
   "cell_type": "markdown",
   "metadata": {},
   "source": [
    "### 5.5. What is the number of crimes per month in each community area? List the ones with an average number over 500."
   ]
  },
  {
   "cell_type": "code",
   "execution_count": null,
   "metadata": {},
   "outputs": [],
   "source": [
    "Select count(*) AS crime_count\n",
    "From crime_record join crime_location\n",
    "ON crime_type.location_id = crime_location.location_id \n",
    "Group by community_area, SUBSTR(date, 1, 2)\n",
    "Where crime_count > 500;"
   ]
  },
  {
   "cell_type": "markdown",
   "metadata": {},
   "source": [
    "### 5.6 What is the arrest rate for domestic battery?"
   ]
  },
  {
   "cell_type": "code",
   "execution_count": null,
   "metadata": {},
   "outputs": [],
   "source": [
    "Select count(*) AS arrest_domestic_count\n",
    "From crime_record\n",
    "Where domestic = TRUE AND arrest = TRUE;"
   ]
  },
  {
   "cell_type": "markdown",
   "metadata": {},
   "source": [
    "### 5.7 What are the five most common crimes in Chicago?\n"
   ]
  },
  {
   "cell_type": "code",
   "execution_count": null,
   "metadata": {},
   "outputs": [],
   "source": [
    "Select DISTINCT TOP 5 primary_type,\n",
    "FROM crime_type join crime_record\n",
    "ON crime_type.iucr = crime_record.iucr and crime_type.fbi_code = crime_record.fbi_code;\n"
   ]
  },
  {
   "cell_type": "markdown",
   "metadata": {},
   "source": [
    "### 5.8 Fetch two time series for crime count and arrest count per month from the database. Plot these two time series in a single plot. "
   ]
  },
  {
   "cell_type": "markdown",
   "metadata": {},
   "source": [
    "I'm not really understand this question. To tackle this, I count the crime record per month from the crime_record table where arrest column is true.  "
   ]
  },
  {
   "cell_type": "code",
   "execution_count": null,
   "metadata": {},
   "outputs": [],
   "source": [
    "SELECT count(*) as crime_count\n",
    "FROM    crime_record\n",
    "GROUP BY SUBSTR(date, 1, 2)\n",
    "WHERE arrest = TRUE;"
   ]
  }
 ],
 "metadata": {
  "kernelspec": {
   "display_name": "Python 3",
   "language": "python",
   "name": "python3"
  },
  "language_info": {
   "codemirror_mode": {
    "name": "ipython",
    "version": 3
   },
   "file_extension": ".py",
   "mimetype": "text/x-python",
   "name": "python",
   "nbconvert_exporter": "python",
   "pygments_lexer": "ipython3",
   "version": "3.7.3"
  },
  "latex_envs": {
   "LaTeX_envs_menu_present": true,
   "bibliofile": "biblio.bib",
   "cite_by": "apalike",
   "current_citInitial": 1,
   "eqLabelWithNumbers": true,
   "eqNumInitial": 1,
   "labels_anchors": false,
   "latex_user_defs": false,
   "report_style_numbering": false,
   "user_envs_cfg": false
  },
  "toc": {
   "colors": {
    "hover_highlight": "#DAA520",
    "running_highlight": "#FF0000",
    "selected_highlight": "#FFD700"
   },
   "moveMenuLeft": true,
   "nav_menu": {
    "height": "139.261px",
    "width": "251.989px"
   },
   "navigate_menu": true,
   "number_sections": true,
   "sideBar": true,
   "threshold": 4,
   "toc_cell": true,
   "toc_section_display": "block",
   "toc_window_display": false
  }
 },
 "nbformat": 4,
 "nbformat_minor": 4
}
